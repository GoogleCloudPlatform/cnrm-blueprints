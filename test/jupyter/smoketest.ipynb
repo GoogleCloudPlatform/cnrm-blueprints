{
 "cells": [
  {
   "cell_type": "code",
   "execution_count": null,
   "metadata": {},
   "outputs": [],
   "source": [
    "state = {\n",
    "    \"project\": \"anthos-blueprints-validation\",\n",
    "    \"project_number\": \"1074580744525\",\n",
    "    \"location\": \"us-central1-c\",\n",
    "    \"anthoscli_version\": \"0.1.10\",\n",
    "    \"kustomize_version\": \"3.6.1\",\n",
    "    \"kpt_version\": \"0.24.0\",\n",
    "    \"gcloud_version\": \"287.0.0\"\n",
    "}\n",
    "\n",
    "import os\n",
    "import sys\n",
    "import tempfile\n",
    "sys.path.insert(0, os.path.abspath('../lib'))\n",
    "\n",
    "from blueprint import *\n",
    "from state import *\n",
    "from e2e import *\n",
    "from downloads import *\n",
    "from anthoscli import *\n",
    "from gcloud import *\n",
    "from git import *\n",
    "from kpt import *\n",
    "from kubectl import *\n",
    "from kustomize import *\n",
    "from random import randint\n",
    "from rc import *\n",
    "\n",
    "%env GCS_TRUSTED_MIRROR=gs://anthoscli-test-cloudbuild-mirror\n",
    "\n",
    "repo = os.getenv(\"REPO_NAME\")\n",
    "branch = os.getenv(\"BRANCH_NAME\")\n",
    "commit_sha = os.getenv(\"COMMIT_SHA\")\n",
    "\n",
    "if not repo:\n",
    "  repo = \"blueprints\"\n",
    "\n",
    "if not branch:\n",
    "  branch = \"master\"\n",
    "\n"
   ]
  },
  {
   "cell_type": "markdown",
   "metadata": {},
   "source": [
    "#### Install gcloud"
   ]
  },
  {
   "cell_type": "code",
   "execution_count": null,
   "metadata": {},
   "outputs": [],
   "source": [
    "gcloud = download_gcloud(state[\"gcloud_version\"])\n",
    "gcloud"
   ]
  },
  {
   "cell_type": "markdown",
   "metadata": {},
   "source": [
    "#### Setup blueprint submodule"
   ]
  },
  {
   "cell_type": "code",
   "execution_count": null,
   "metadata": {},
   "outputs": [],
   "source": [
    "gcloud.decrypt_key([\"kms\", \"decrypt\", \"--ciphertext-file=/root/.ssh/id_rsa.enc\",\n",
    "                    \"--plaintext-file=/root/.ssh/id_rsa\", \"--location=global\",\n",
    "                    \"--keyring=cnrm-blueprints-cb-keyring\", \"--key=github-key\"])\n",
    "\n",
    "repo_url = \"git@github.com:GoogleCloudPlatform/%s\" % repo\n",
    "git_user_email = \"anthos-blueprints-validation-bot@google.com\"\n",
    "git_user_name = \"anthos-blueprints-validation-bot\"\n",
    "clone_directory = \"%s/%s\" % (tempfile.gettempdir(), repo)\n",
    "\n",
    "git = Git(git_user_email, git_user_name)\n",
    "git.clone(repo_url, clone_directory)\n",
    "\n",
    "if not commit_sha:\n",
    "  commit_sha = git.get_last_commit_hash()\n",
    "\n",
    "updated_files = git.get_changed_files(commit_sha)\n",
    "\n",
    "updated_packages = UpdatedPackages(clone_directory, updated_files)\n",
    "\n",
    "if len(updated_packages.packages) == 0:\n",
    "  print(\"No Blueprints are updated with commit %s\" % commit_sha)\n",
    "  update_state(state, {\"new_rc\": False})\n",
    "  # test infrastructure update, only run one package for validation\n",
    "  defaultBlueprint = [\"asm-1.5\"]\n",
    "  updated_packages = UpdatedPackages(clone_directory, defaultBlueprint)\n",
    "else:\n",
    "  update_state(state, {\"new_rc\": True})\n",
    "\n",
    "packages = updated_packages.packages\n",
    "print(\"The packages to be validated:\")\n",
    "print(packages)\n",
    "\n",
    "anthoscli_versions = set()\n",
    "for k, v in packages.items():\n",
    "  release_candidate = ReleaseCandidate(clone_directory, v.name)\n",
    "  anthoscli_versions.add(release_candidate.get_anthos_cli_version())\n",
    "\n",
    "if len(anthoscli_versions) == 0:\n",
    "  raise Exception(\"No Anthoscli versions found. Please check anthoscli-release-candidates.json file and make sure the blueprints are added.\")\n",
    "if len(anthoscli_versions) > 1:\n",
    "  raise Exception(\"Multiple Anthoscli versions found for the updated packages!\")\n",
    "anthoscli_version = list(anthoscli_versions)[0]\n",
    "print(\"anthoscli_version: %s\" % anthoscli_version)\n",
    "\n",
    "if not anthoscli_version:\n",
    "  update_state(state, {\"anthoscli_version\": anthoscli_version})"
   ]
  },
  {
   "cell_type": "markdown",
   "metadata": {},
   "source": [
    "#### Install kubectl"
   ]
  },
  {
   "cell_type": "code",
   "execution_count": null,
   "metadata": {},
   "outputs": [],
   "source": [
    "if not \"kubernetes_version\" in state:\n",
    "    update_state(state, { \"kubernetes_version\": get_kubernetes_version(\"stable\") })\n",
    "kubectl = download_kubectl(state[\"kubernetes_version\"])\n",
    "kubectl\n",
    "kubectl.version()"
   ]
  },
  {
   "cell_type": "markdown",
   "metadata": {},
   "source": [
    "#### Install anthoscli"
   ]
  },
  {
   "cell_type": "code",
   "execution_count": null,
   "metadata": {},
   "outputs": [],
   "source": [
    "anthoscli = download_anthoscli(state[\"anthoscli_version\"], gcloud=gcloud)\n",
    "kubectl.add_to_path(anthoscli.env)\n",
    "gcloud.add_to_path(anthoscli.env)\n",
    "# Use strict mode so we catch the most we can\n",
    "anthoscli.env[\"ANTHOSCLI_STRICT_MODE\"] = \"1\"\n",
    "\n",
    "v = anthoscli.version()\n",
    "update_state(state, { \"anthoscli_reported_version\": v} )\n",
    "v"
   ]
  },
  {
   "cell_type": "markdown",
   "metadata": {},
   "source": [
    "#### Install kpt"
   ]
  },
  {
   "cell_type": "code",
   "execution_count": null,
   "metadata": {},
   "outputs": [],
   "source": [
    "workdir = workspace_dir()\n",
    "statedir = os.path.join(workdir, \"my-anthos\")\n",
    "os.makedirs(statedir, exist_ok=True)\n",
    "\n",
    "kpt = download_kpt(state[\"kpt_version\"], gcloud=gcloud, statedir=statedir) # TODO: How to get tagged version?\n",
    "gcloud.add_to_path(kpt.env)\n",
    "kpt"
   ]
  },
  {
   "cell_type": "markdown",
   "metadata": {},
   "source": [
    "#### Configure project, location etc."
   ]
  },
  {
   "cell_type": "code",
   "execution_count": null,
   "metadata": {},
   "outputs": [],
   "source": [
    "if not \"project\" in state:\n",
    "    p = os.environ.get(\"PROJECT_ID\")\n",
    "    if not p:\n",
    "        p = gcloud.current_project()\n",
    "    update_state(state, { \"project\": p })\n",
    "gcloud.set_current_project(state[\"project\"])\n",
    "state[\"project\"]"
   ]
  },
  {
   "cell_type": "code",
   "execution_count": null,
   "metadata": {},
   "outputs": [],
   "source": [
    "save_state(state)\n",
    "state"
   ]
  },
  {
   "cell_type": "markdown",
   "metadata": {},
   "source": [
    "#### vet the manifest using anthoscli"
   ]
  },
  {
   "cell_type": "code",
   "execution_count": null,
   "metadata": {},
   "outputs": [],
   "source": [
    "anthoscli.vet(statedir)\n",
    "anthoscli.env[\"ANTHOSCLI_STRICT_MODE\"] = \"\"\n"
   ]
  },
  {
   "cell_type": "markdown",
   "metadata": {},
   "source": [
    "#### Install kustomize"
   ]
  },
  {
   "cell_type": "code",
   "execution_count": null,
   "metadata": {},
   "outputs": [],
   "source": [
    "kustomize = download_kustomize(state[\"kustomize_version\"])\n",
    "kustomize.version()"
   ]
  },
  {
   "cell_type": "markdown",
   "metadata": {},
   "source": [
    "#### Prepare the existing clusters for patch packages"
   ]
  },
  {
   "cell_type": "code",
   "execution_count": null,
   "metadata": {},
   "outputs": [],
   "source": [
    "patch_packages = updated_packages.filter_patch_packages()\n",
    "patch_cluster_names = {}\n",
    "for p, pkg in patch_packages.items():\n",
    "  cluster_name = \"btc-%s\" % randint(0, 100) #btc stands for blueprints-test-cluster\n",
    "  existing_package_path = \"%s.git/%s\" % (repo_url, \"test/gke-cluster\")\n",
    "  kpt.get(existing_package_path, cluster_name)\n",
    "  patch_cluster_names[pkg.name] = cluster_name\n",
    "  for setter in pkg.setters:\n",
    "    if \"gcloud.container.cluster\" == setter or \"cluster-name\" in setter:\n",
    "      kpt.set(cluster_name, setter, cluster_name)\n",
    "  kpt.list(cluster_name)\n",
    "\n",
    "anthoscli.apply(statedir)\n"
   ]
  },
  {
   "cell_type": "markdown",
   "metadata": {},
   "source": [
    "#### Get the kpt packages"
   ]
  },
  {
   "cell_type": "code",
   "execution_count": null,
   "metadata": {},
   "outputs": [],
   "source": [
    "clusters = []\n",
    "for package_path, pkg in packages.items():\n",
    "  package_full_path = \"%s.git/%s\" % (repo_url, package_path)\n",
    "  if pkg.is_patch:\n",
    "    cluster_name = patch_cluster_names[pkg.name]\n",
    "    existing_output_dir = \"%s/%s\" % (statedir, cluster_name)\n",
    "    gcloud.describe_project(state[\"project\"])\n",
    "    anthoscli.export(cluster_name, state[\"project\"], state[\"location\"], existing_output_dir)\n",
    "    exec([\"cat\", \"%s/all.yaml\" % existing_output_dir])\n",
    "    patch_path = \"%s-%s\" % (pkg.name, os.path.basename(package_path))\n",
    "    patch_full_path = \"%s/%s\" % (statedir, patch_path)\n",
    "    kpt.get(package_full_path, patch_path)\n",
    "    kpt.set(patch_path, \"base-dir\", \"../%s\" % cluster_name)\n",
    "    kpt.list(patch_path)\n",
    "    for setter in pkg.setters:\n",
    "        if \"gcloud.container.cluster\" == setter or \"cluster-name\" in setter:\n",
    "          kpt.set(patch_path, setter, cluster_name)\n",
    "    kustomize.create_with_namespace(state[\"project\"], existing_output_dir)\n",
    "    kustomize.build(\"%s/all.yaml\" % existing_output_dir, patch_full_path)\n",
    "    exec([\"rm\", \"-rf\", patch_full_path])\n",
    "  else:\n",
    "    cluster_name = \"btc-%s\" % randint(0, 100) #btc stands for blueprints-test-cluster\n",
    "    kpt.get(package_full_path, cluster_name)\n",
    "    for setter in pkg.setters:\n",
    "      if \"gcloud.container.cluster\" == setter or \"cluster-name\" in setter:\n",
    "        kpt.set(cluster_name, setter, cluster_name)\n",
    "    kpt.list(cluster_name)\n",
    "  clusters.append(cluster_name)"
   ]
  },
  {
   "cell_type": "markdown",
   "metadata": {},
   "source": [
    "#### Apply it using anthoscli sequentially. It has to be sequential, otherwise anthoscli will complain about duplicate objects"
   ]
  },
  {
   "cell_type": "code",
   "execution_count": null,
   "metadata": {},
   "outputs": [],
   "source": [
    "for cluster in clusters:\n",
    "  anthoscli.apply(\"%s/%s\" %(statedir, cluster))"
   ]
  },
  {
   "cell_type": "markdown",
   "metadata": {},
   "source": [
    "#### Perform some basic sanity checks "
   ]
  },
  {
   "cell_type": "code",
   "execution_count": null,
   "metadata": {},
   "outputs": [],
   "source": [
    "has_failure = False\n",
    "\n",
    "for cluster_name in clusters:\n",
    "  cluster = gcloud.describe_gke_cluster(state[\"location\"], cluster_name)\n",
    "  cluster\n",
    "  status = cluster.get(\"status\")\n",
    "  if status != \"RUNNING\":\n",
    "    has_failure = True\n",
    "  else:\n",
    "    gcloud.get_gke_cluster_creds(cluster_name, state[\"location\"], state[\"project\"])\n",
    "    checks = kubectl.exec([\"wait\", \"--for=condition=available\", \"--timeout=600s\", \"deployment\", \"--all\", \"--all-namespaces\"])\n",
    "    print(checks)\n",
    "    if \"error\" in checks or \"timed out\" in checks:\n",
    "      has_failure = True"
   ]
  },
  {
   "cell_type": "code",
   "execution_count": null,
   "metadata": {},
   "outputs": [],
   "source": [
    "if has_failure:\n",
    "    update_state(state, {\"success\": False})\n",
    "else:\n",
    "    update_state(state, {\"success\": True})\n",
    "save_state(state)"
   ]
  },
  {
   "cell_type": "markdown",
   "metadata": {},
   "source": [
    "#### Clean up!"
   ]
  },
  {
   "cell_type": "code",
   "execution_count": null,
   "metadata": {},
   "outputs": [],
   "source": [
    "for cluster_name in clusters:\n",
    "  gcloud.delete_gke_cluster(state[\"location\"], cluster_name)\n"
   ]
  },
  {
   "cell_type": "markdown",
   "source": [
    "#### Pushing release tags for anthoscli"
   ],
   "metadata": {}
  },
  {
   "cell_type": "code",
   "execution_count": null,
   "metadata": {},
   "outputs": [],
   "source": [
    "if state[\"success\"]:\n",
    "  if state[\"new_rc\"]:\n",
    "    git.checkout(branch)\n",
    "    release_candidate.update_release_candidate()\n",
    "    new_tag = release_candidate.get_current_release_candidate()\n",
    "    git.commit_and_push(branch, CONFIG_FILE, \"Update the anthoscli release version to \" + new_tag)\n",
    "    git.create_remote_tag(new_tag)\n",
    "else:\n",
    "  print(\"Errors occurred while running validation test\")\n"
   ]
  }
 ],
 "metadata": {
  "kernelspec": {
   "display_name": "Python 3",
   "language": "python",
   "name": "python3"
  },
  "language_info": {
   "codemirror_mode": {
    "name": "ipython",
    "version": 3
   },
   "file_extension": ".py",
   "mimetype": "text/x-python",
   "name": "python",
   "nbconvert_exporter": "python",
   "pygments_lexer": "ipython3",
   "version": "3.7.7"
  },
  "pycharm": {
   "stem_cell": {
    "cell_type": "raw",
    "source": [],
    "metadata": {
     "collapsed": false
    }
   }
  }
 },
 "nbformat": 4,
 "nbformat_minor": 2
}