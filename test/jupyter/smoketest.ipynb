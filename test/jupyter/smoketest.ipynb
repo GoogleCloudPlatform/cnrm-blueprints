{
 "cells": [
  {
   "cell_type": "code",
   "execution_count": null,
   "metadata": {},
   "outputs": [],
   "source": [
    "state = {\n",
    "    \"project\": \"anthos-blueprints-validation\",\n",
    "    \"project_number\": \"1074580744525\",\n",
    "    \"anthoscli_version\": \"0.1.10\"\n",
    "}\n",
    "\n",
    "import os\n",
    "import re\n",
    "import sys\n",
    "import tempfile\n",
    "sys.path.insert(0, os.path.abspath('../lib'))\n",
    "\n",
    "from state import *\n",
    "from e2e import *\n",
    "from downloads import *\n",
    "from anthoscli import *\n",
    "from gcloud import *\n",
    "from git import *\n",
    "from kpt import *\n",
    "from kubectl import *\n",
    "from random import randint\n",
    "from rc import *\n",
    "\n",
    "%env GCS_TRUSTED_MIRROR=gs://anthoscli-test-cloudbuild-mirror\n",
    "\n",
    "repo = os.getenv(\"REPO_NAME\")\n",
    "branch = os.getenv(\"BRANCH_NAME\")\n",
    "commit_sha = os.getenv(\"COMMIT_SHA\")\n",
    "cluster_name = \"btc-%s\" % randint(0, 100) #btc stands for blueprints-test-cluster\n",
    "\n",
    "if not repo:\n",
    "  repo = \"blueprints\"\n",
    "\n",
    "if not branch:\n",
    "  branch = \"master\"\n",
    "\n"
   ]
  },
  {
   "cell_type": "markdown",
   "metadata": {},
   "source": [
    "#### Install gcloud"
   ]
  },
  {
   "cell_type": "code",
   "execution_count": null,
   "metadata": {},
   "outputs": [],
   "source": [
    "if not \"gcloud_version\" in state:\n",
    "    update_state(state, { \"gcloud_version\": \"287.0.0\" }) # TODO: how to query latest version?\n",
    "gcloud = download_gcloud(state[\"gcloud_version\"])\n",
    "gcloud"
   ]
  },
  {
   "cell_type": "markdown",
   "metadata": {},
   "source": [
    "#### Setup blueprint submodule"
   ]
  },
  {
   "cell_type": "code",
   "execution_count": null,
   "metadata": {},
   "outputs": [],
   "source": [
    "gcloud.decrypt_key([\"kms\", \"decrypt\", \"--ciphertext-file=/root/.ssh/id_rsa.enc\",\n",
    "                    \"--plaintext-file=/root/.ssh/id_rsa\", \"--location=global\",\n",
    "                    \"--keyring=blueprints-cb-keyring\", \"--key=github-key\"])\n",
    "\n",
    "repo_url = \"git@github.com:GoogleCloudPlatform/%s\" % repo\n",
    "git_user_email = \"anthos-blueprints-validation-bot@google.com\"\n",
    "git_user_name = \"anthos-blueprints-validation-bot\"\n",
    "clone_directory = \"%s/%s\" % (tempfile.gettempdir(), repo)\n",
    "\n",
    "git = Git(git_user_email, git_user_name)\n",
    "git.clone(repo_url, clone_directory)\n",
    "\n",
    "if not commit_sha:\n",
    "  commit_sha = git.get_last_commit_hash()\n",
    "commit_msg = git.get_commit_message(commit_sha)\n",
    "\n",
    "m = re.compile(\"^Update submodule:\\s*(.+)/(branches|tags)/(\\S*).*$\").match(commit_msg)\n",
    "\n",
    "blueprint = \"anthos-service-mesh-packages\"  # Use ASM as the default validation package\n",
    "blueprint_branch = \"release-1.5-asm\"   # Use ASM's latest release branch\n",
    "blueprint_tag = \"\"\n",
    "blueprint_mode = \"\"\n",
    "blueprint_revision = blueprint_branch\n",
    "if not m:\n",
    "  blueprint = m.group(1)  # the blueprint name\n",
    "  blueprint_mode = m.group(2) # branches or tags\n",
    "  blueprint_revision = m.group(3) # either the branch name or the tag name\n",
    "  blueprint_branch = blueprint_revision if blueprint_mode == \"branches\" else \"\"\n",
    "  blueprint_tag = blueprint_revision if blueprint_mode == \"tags\" else \"\"\n",
    "\n",
    "release_candidate = ReleaseCandidate(clone_directory, blueprint, blueprint_branch, blueprint_tag)\n",
    "anthoscli_version = release_candidate.get_anthos_cli_version()\n",
    "submodule = blueprint if m and blueprint_mode == \"tags\" else \"%s-%s\" % (blueprint, blueprint_revision)\n",
    "\n",
    "if not anthoscli_version:\n",
    "  update_state(stage, {\"anthoscli_version\": anthoscli_version})"
   ]
  },
  {
   "cell_type": "markdown",
   "metadata": {},
   "source": [
    "#### Install kubectl"
   ]
  },
  {
   "cell_type": "code",
   "execution_count": null,
   "metadata": {},
   "outputs": [],
   "source": [
    "if not \"kubernetes_version\" in state:\n",
    "    update_state(state, { \"kubernetes_version\": get_kubernetes_version(\"stable\") })\n",
    "kubectl = download_kubectl(state[\"kubernetes_version\"])\n",
    "kubectl\n",
    "kubectl.version()"
   ]
  },
  {
   "cell_type": "markdown",
   "metadata": {},
   "source": [
    "#### Install anthoscli"
   ]
  },
  {
   "cell_type": "code",
   "execution_count": null,
   "metadata": {},
   "outputs": [],
   "source": [
    "anthoscli = download_anthoscli(state[\"anthoscli_version\"], gcloud=gcloud)\n",
    "kubectl.add_to_path(anthoscli.env)\n",
    "gcloud.add_to_path(anthoscli.env)\n",
    "# Use strict mode so we catch the most we can\n",
    "anthoscli.env[\"ANTHOSCLI_STRICT_MODE\"] = \"1\"\n",
    "\n",
    "v = anthoscli.version()\n",
    "update_state(state, { \"anthoscli_reported_version\": v} )\n",
    "v"
   ]
  },
  {
   "cell_type": "markdown",
   "metadata": {},
   "source": [
    "#### Install kpt"
   ]
  },
  {
   "cell_type": "code",
   "execution_count": null,
   "metadata": {},
   "outputs": [],
   "source": [
    "workdir = workspace_dir()\n",
    "statedir = os.path.join(workdir, \"my-anthos\")\n",
    "os.makedirs(statedir, exist_ok=True)\n",
    "\n",
    "if not \"kpt_version\" in state:\n",
    "    update_state(state, { \"kpt_version\": \"0.24.0\" }) # TODO: How to get latest?\n",
    "\n",
    "kpt = download_kpt(state[\"kpt_version\"], gcloud=gcloud, statedir=statedir) # TODO: How to get tagged version?\n",
    "kpt"
   ]
  },
  {
   "cell_type": "markdown",
   "metadata": {},
   "source": [
    "#### Configure project, zone etc."
   ]
  },
  {
   "cell_type": "code",
   "execution_count": null,
   "metadata": {},
   "outputs": [],
   "source": [
    "if not \"project\" in state:\n",
    "    p = os.environ.get(\"PROJECT_ID\")\n",
    "    if not p:\n",
    "        p = gcloud.current_project()\n",
    "    update_state(state, { \"project\": p })\n",
    "gcloud.set_current_project(state[\"project\"])\n",
    "state[\"project\"]"
   ]
  },
  {
   "cell_type": "code",
   "execution_count": null,
   "metadata": {},
   "outputs": [],
   "source": [
    "if not \"zone\" in state:\n",
    "    update_state(state, { \"zone\": \"us-central1-f\" })"
   ]
  },
  {
   "cell_type": "code",
   "execution_count": null,
   "metadata": {},
   "outputs": [],
   "source": [
    "save_state(state)\n",
    "state"
   ]
  },
  {
   "cell_type": "markdown",
   "metadata": {},
   "source": [
    "#### Get the submodule kpt package"
   ]
  },
  {
   "cell_type": "code",
   "execution_count": null,
   "metadata": {},
   "outputs": [],
   "source": [
    "package = \"%s.git/%s\" % (repo_url, submodule)\n",
    "kpt.get(package, cluster_name)\n",
    "\n",
    "kpt.set(cluster_name, \"cluster-name\", cluster_name)\n",
    "kpt.set(cluster_name, \"gcloud.compute.zone\", state[\"zone\"])\n",
    "kpt.set(cluster_name, \"gcloud.core.project\", state[\"project\"])\n",
    "kpt.set(cluster_name, \"gcloud.project.projectNumber\", state[\"project_number\"])\n",
    "kpt.list(cluster_name)"
   ]
  },
  {
   "cell_type": "markdown",
   "metadata": {},
   "source": [
    "#### vet the manifest using anthoscli"
   ]
  },
  {
   "cell_type": "code",
   "execution_count": null,
   "metadata": {},
   "outputs": [],
   "source": [
    "anthoscli.vet(statedir)"
   ]
  },
  {
   "cell_type": "markdown",
   "metadata": {},
   "source": [
    "#### Apply it using anthoscli"
   ]
  },
  {
   "cell_type": "code",
   "execution_count": null,
   "metadata": {},
   "outputs": [],
   "source": [
    "anthoscli.env[\"ANTHOSCLI_STRICT_MODE\"] = \"\"\n",
    "anthoscli.apply(statedir)"
   ]
  },
  {
   "cell_type": "markdown",
   "metadata": {},
   "source": [
    "#### Perform some basic sanity checks "
   ]
  },
  {
   "cell_type": "code",
   "execution_count": null,
   "metadata": {},
   "outputs": [],
   "source": [
    "cluster = gcloud.describe_gke_cluster(state[\"zone\"], cluster_name)\n",
    "cluster"
   ]
  },
  {
   "cell_type": "code",
   "execution_count": null,
   "metadata": {},
   "outputs": [],
   "source": [
    "status = cluster.get(\"status\")\n",
    "if status == \"RUNNING\":\n",
    "    update_state(state, {\"success\": True})\n",
    "else:\n",
    "    update_state(state, {\"success\": False})\n",
    "save_state(state)"
   ]
  },
  {
   "cell_type": "markdown",
   "metadata": {},
   "source": [
    "#### Clean up!"
   ]
  },
  {
   "cell_type": "code",
   "execution_count": null,
   "metadata": {},
   "outputs": [],
   "source": [
    "gcloud.delete_gke_cluster(state[\"zone\"], cluster_name)\n"
   ]
  },
  {
   "cell_type": "markdown",
   "source": [
    "#### Pushing release tags for anthoscli"
   ],
   "metadata": {}
  },
  {
   "cell_type": "code",
   "execution_count": null,
   "metadata": {},
   "outputs": [],
   "source": [
    "if state[\"success\"]:\n",
    "  git.checkout(branch)\n",
    "  release_candidate.update_release_candidate()\n",
    "  new_tag = release_candidate.get_current_release_candidate()\n",
    "  git.commit_and_push(branch, CONFIG_FILE, \"Update the anthoscli release version to \" + new_tag)\n",
    "  git.create_remote_tag(new_tag)\n",
    "else:\n",
    "  print(\"The cluster is not running\")\n"
   ]
  }
 ],
 "metadata": {
  "kernelspec": {
   "display_name": "Python 3",
   "language": "python",
   "name": "python3"
  },
  "language_info": {
   "codemirror_mode": {
    "name": "ipython",
    "version": 3
   },
   "file_extension": ".py",
   "mimetype": "text/x-python",
   "name": "python",
   "nbconvert_exporter": "python",
   "pygments_lexer": "ipython3",
   "version": "3.7.7"
  },
  "pycharm": {
   "stem_cell": {
    "cell_type": "raw",
    "source": [],
    "metadata": {
     "collapsed": false
    }
   }
  }
 },
 "nbformat": 4,
 "nbformat_minor": 2
}