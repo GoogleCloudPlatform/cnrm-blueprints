{
 "cells": [
  {
   "cell_type": "code",
   "execution_count": null,
   "metadata": {},
   "outputs": [],
   "source": [
    "import os\n",
    "import re\n",
    "import sys\n",
    "import tempfile\n",
    "sys.path.insert(0, os.path.abspath('../lib'))\n",
    "\n",
    "from state import *\n",
    "from e2e import *\n",
    "from downloads import *\n",
    "from anthoscli import *\n",
    "from gcloud import *\n",
    "from git import *\n",
    "from kpt import *\n",
    "from kubectl import *\n",
    "\n",
    "%env GCS_TRUSTED_MIRROR=gs://anthoscli-test-cloudbuild-mirror\n",
    "\n",
    "repo = os.getenv(\"REPO_NAME\")\n",
    "branch = os.getenv(\"BRANCH_NAME\")\n",
    "tag = os.getenv(\"TAG_NAME\")\n",
    "commit_sha = os.getenv(\"COMMIT_SHA\")\n",
    "cluster_name = \"anthos-blueprints-test-cluster\"\n",
    "\n",
    "if not repo:\n",
    "  repo = \"anthos-blueprints\"\n",
    "\n",
    "if not branch:\n",
    "  branch = \"master\"\n",
    "\n",
    "if not tag:\n",
    "  tag = branch"
   ]
  },
  {
   "cell_type": "code",
   "execution_count": null,
   "metadata": {},
   "outputs": [],
   "source": [
    "state = load_state()\n",
    "state"
   ]
  },
  {
   "cell_type": "markdown",
   "metadata": {},
   "source": [
    "#### Install gcloud"
   ]
  },
  {
   "cell_type": "code",
   "execution_count": null,
   "metadata": {},
   "outputs": [],
   "source": [
    "if not \"gcloud_version\" in state:\n",
    "    update_state(state, { \"gcloud_version\": \"281.0.0\" }) # TODO: how to query latest version?\n",
    "gcloud = download_gcloud(state[\"gcloud_version\"])\n",
    "gcloud"
   ]
  },
  {
   "cell_type": "markdown",
   "metadata": {},
   "source": [
    "#### Install kubectl"
   ]
  },
  {
   "cell_type": "code",
   "execution_count": null,
   "metadata": {},
   "outputs": [],
   "source": [
    "if not \"kubernetes_version\" in state:\n",
    "    update_state(state, { \"kubernetes_version\": get_kubernetes_version(\"stable\") })\n",
    "kubectl = download_kubectl(state[\"kubernetes_version\"])\n",
    "kubectl\n",
    "kubectl.version()"
   ]
  },
  {
   "cell_type": "markdown",
   "metadata": {},
   "source": [
    "#### Install anthoscli"
   ]
  },
  {
   "cell_type": "code",
   "execution_count": null,
   "metadata": {},
   "outputs": [],
   "source": [
    "if not \"anthoscli_version\" in state:\n",
    "    update_state(state, { \"anthoscli_version\": \"0.0.16\" }) # TODO: how to query latest version?\n",
    "anthoscli = download_anthoscli(state[\"anthoscli_version\"], gcloud=gcloud)\n",
    "kubectl.add_to_path(anthoscli.env)\n",
    "gcloud.add_to_path(anthoscli.env)\n",
    "anthoscli.env[\"PATH\"]"
   ]
  },
  {
   "cell_type": "code",
   "execution_count": null,
   "metadata": {},
   "outputs": [],
   "source": [
    "v = anthoscli.version()\n",
    "update_state(state, { \"anthoscli_reported_version\": v} )\n",
    "v"
   ]
  },
  {
   "cell_type": "markdown",
   "metadata": {},
   "source": [
    "#### Install kpt"
   ]
  },
  {
   "cell_type": "code",
   "execution_count": null,
   "metadata": {},
   "outputs": [],
   "source": [
    "workdir = workspace_dir()\n",
    "statedir = os.path.join(workdir, \"my-anthos\")\n",
    "os.makedirs(statedir, exist_ok=True)\n",
    "kpt = download_kpt(\"0.23.0\", gcloud=gcloud, statedir=statedir) # TODO: How to get tagged version?\n",
    "kpt"
   ]
  },
  {
   "cell_type": "markdown",
   "metadata": {},
   "source": [
    "#### Configure project, zone etc."
   ]
  },
  {
   "cell_type": "code",
   "execution_count": null,
   "metadata": {},
   "outputs": [],
   "source": [
    "if not \"project\" in state:\n",
    "    p = os.environ.get(\"PROJECT_ID\")\n",
    "    if not p:\n",
    "        p = gcloud.current_project()\n",
    "    update_state(state, { \"project\": p })\n",
    "gcloud.set_current_project(state[\"project\"])"
   ]
  },
  {
   "cell_type": "code",
   "execution_count": null,
   "metadata": {},
   "outputs": [],
   "source": [
    "if not \"zone\" in state:\n",
    "    update_state(state, { \"zone\": \"us-central1-f\" })"
   ]
  },
  {
   "cell_type": "code",
   "execution_count": null,
   "metadata": {},
   "outputs": [],
   "source": [
    "save_state(state)\n",
    "state"
   ]
  },
  {
   "cell_type": "markdown",
   "metadata": {},
   "source": [
    "#### Get the submodule kpt package"
   ]
  },
  {
   "cell_type": "code",
   "execution_count": null,
   "metadata": {},
   "outputs": [],
   "source": [
    "gcloud.decrypt_key([\"kms\", \"decrypt\", \"--ciphertext-file=/root/.ssh/id_rsa.enc\",\n",
    "                    \"--plaintext-file=/root/.ssh/id_rsa\", \"--location=global\",\n",
    "                    \"--keyring=asm-cb-keyring\", \"--key=github-key\"])\n",
    "\n",
    "repo_url = \"git@github.com:nan-yu/%s\" % repo\n",
    "git_user_email = \"anthos-blueprints-validation-bot@google.com\"\n",
    "git_user_name = \"anthos-blueprints-validation-bot\"\n",
    "\n",
    "git = Git(git_user_email, git_user_name)\n",
    "git.clone(repo_url, \"%s/%s\" % (tempfile.gettempdir(), repo))\n",
    "\n",
    "if not commit_sha:\n",
    "  commit_sha = git.get_last_commit_hash()\n",
    "commit_msg = git.get_commit_message(commit_sha)\n",
    "\n",
    "m = re.compile(\"Update the submodule: *(.+)\").match(commit_msg)\n",
    "submodule = \"anthos-service-mesh-packages/asm\" if not m else m.group(1)\n",
    "package = \"%s.git/%s\" % (repo_url, submodule)\n",
    "kpt.get(package, \"cluster1/\")"
   ]
  },
  {
   "cell_type": "code",
   "execution_count": null,
   "metadata": {},
   "outputs": [],
   "source": [
    "kpt.set(\"cluster1/\", \"cluster-name\", cluster_name)\n",
    "kpt.set(\"cluster1/\", \"gcloud.compute.zone\", state[\"zone\"])\n",
    "kpt.set(\"cluster1/\", \"gcloud.core.project\", state[\"project\"])\n",
    "kpt.set(\"cluster1/\", \"gcloud.project.projectNumber\", gcloud.describe_project(state[\"project\"])[\"projectNumber\"])\n",
    "kpt.list(\"cluster1/\")"
   ]
  },
  {
   "cell_type": "markdown",
   "metadata": {},
   "source": [
    "#### Apply it using anthoscli"
   ]
  },
  {
   "cell_type": "code",
   "execution_count": null,
   "metadata": {},
   "outputs": [],
   "source": [
    "anthoscli.apply(statedir)"
   ]
  },
  {
   "cell_type": "markdown",
   "metadata": {},
   "source": [
    "#### Perform some basic sanity checks "
   ]
  },
  {
   "cell_type": "code",
   "execution_count": null,
   "metadata": {},
   "outputs": [],
   "source": [
    "cluster = gcloud.describe_gke_cluster(state[\"zone\"], cluster_name)\n",
    "cluster"
   ]
  },
  {
   "cell_type": "code",
   "execution_count": null,
   "metadata": {},
   "outputs": [],
   "source": [
    "status = cluster.get(\"status\")\n",
    "if status == \"RUNNING\":\n",
    "    update_state(state, {\"success\": True})\n",
    "else:\n",
    "    update_state(state, {\"success\": False})\n",
    "save_state(state)"
   ]
  },
  {
   "cell_type": "markdown",
   "metadata": {},
   "source": [
    "#### Clean up!"
   ]
  },
  {
   "cell_type": "code",
   "execution_count": null,
   "metadata": {},
   "outputs": [],
   "source": [
    "gcloud.delete_gke_cluster(state[\"zone\"], cluster_name)\n"
   ]
  },
  {
   "cell_type": "markdown",
   "source": [
    "#### Pushing release tags for anthoscli"
   ],
   "metadata": {}
  },
  {
   "cell_type": "code",
   "execution_count": null,
   "metadata": {},
   "outputs": [],
   "source": [
    "if state[\"success\"]:\n",
    "  new_tag = git.release_new_version(tag, branch, \"anthoscli-version.txt\")\n",
    "  git.create_remote_tag(new_tag)\n",
    "else:\n",
    "  print(\"The cluster is not running\")\n"
   ]
  }
 ],
 "metadata": {
  "kernelspec": {
   "display_name": "Python 3",
   "language": "python",
   "name": "python3"
  },
  "language_info": {
   "codemirror_mode": {
    "name": "ipython",
    "version": 3
   },
   "file_extension": ".py",
   "mimetype": "text/x-python",
   "name": "python",
   "nbconvert_exporter": "python",
   "pygments_lexer": "ipython3",
   "version": "3.7.5rc1"
  },
  "pycharm": {
   "stem_cell": {
    "cell_type": "raw",
    "source": [],
    "metadata": {
     "collapsed": false
    }
   }
  }
 },
 "nbformat": 4,
 "nbformat_minor": 2
}